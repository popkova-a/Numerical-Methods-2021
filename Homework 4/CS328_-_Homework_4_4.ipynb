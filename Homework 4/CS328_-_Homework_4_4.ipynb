{
 "cells": [
  {
   "cell_type": "markdown",
   "metadata": {},
   "source": [
    "# Homework 4\n",
    "\n",
    "### CS328 — Numerical Methods for Visual Computing and Machine Learning\n",
    "- - -\n",
    "\n",
    "**Out** on Thursday 18/11/2021, **due** on Thursday 02/12/2021\n",
    "\n",
    "This notebook contains literate code, i.e. brief fragments of Python surrounded by descriptive text. Please complete/extend this notebook for your homework submission:\n",
    "\n",
    "* In addition to your code, please **also provide a short description of what your solution is doing and how it works**, either by adding comments or in an extra markdown cell.\n",
    "* Before handing in, please make sure that your notebook runs from top to bottom after selecting \"Kernel->Restart & Run All\" without causing any errors. To simplify the grading process, please do **not** clear the generated output.\n",
    "\n",
    "Make sure to use the reference Python distribution so that project files can be opened by the TAs. In this course, we use <a href=\"https://www.anaconda.com/products/individual\">Anaconda</a>, specifically the version based on Python 3.8.\n",
    "<br><div class=\"alert alert-warning\">\n",
    "Please keep in mind that homework assignments must be done individually.\n",
    "</div>"
   ]
  },
  {
   "cell_type": "markdown",
   "metadata": {
    "heading_collapsed": true
   },
   "source": [
    "# Installing additional prerequisites"
   ]
  },
  {
   "cell_type": "markdown",
   "metadata": {
    "hidden": true
   },
   "source": [
    "In this assignment, we will make use a library called **[bqplot](https://github.com/bloomberg/bqplot)** developed by Bloomberg, which enables fully interactive plots within the Jupyter notebook. By default, this library is not installed on the Anaconda Python distribution we're using in this course, hence you will need to install it first. To do so, open the console (``cmd.exe`` on Windows or the standard terminal on Linux or MacOS) and enter the following commands.\n",
    "\n",
    "```\n",
    "pip install bqplot\n",
    "jupyter nbextension enable --py --sys-prefix bqplot\n",
    "jupyter nbextension enable --py --sys-prefix widgetsnbextension\n",
    "```\n",
    "\n",
    "**However**, note that some systems like MacOS ship a with default version of Python that is very old and outdated. To ensure that the right versions of the ``pip`` and ``jupyter`` commands are executed, it's safer to first have to navigate to the directory where Anaconda was installed and then execute the commands there. The following screenshots show how to do this on the various supported platforms (note the ``./`` prefix on Linux and Mac OS).\n",
    "\n",
    "<a href=\"//rgl.s3.eu-central-1.amazonaws.com/media/uploads/wjakob/2016/12/05/bqplot.jpg\"><img width=\"1000\" src=\"//rgl.s3.eu-central-1.amazonaws.com/media/uploads/wjakob/2016/12/05/bqplot.jpg\"></a>\n",
    "\n",
    "Afterwards, you will have to **restart** Jupyter notebook for the change to become effective. You can enter and run the following commands in a new cell to check if bqplot was installed correctly—they should display a figure with a pie chart.\n",
    "\n",
    "```python\n",
    "import bqplot as bqp\n",
    "bqp.Figure(marks=[bqp.Pie(sizes=range(1, 6))], title='A pie chart!')\n",
    "```"
   ]
  },
  {
   "cell_type": "code",
   "execution_count": 1,
   "metadata": {},
   "outputs": [
    {
     "data": {
      "application/vnd.jupyter.widget-view+json": {
       "model_id": "cdc5851973654bf48d05a727fea2ebc9",
       "version_major": 2,
       "version_minor": 0
      },
      "text/plain": [
       "Figure(fig_margin={'top': 60, 'bottom': 60, 'left': 60, 'right': 60}, marks=[Pie(colors=['#1f77b4', '#ff7f0e',…"
      ]
     },
     "metadata": {},
     "output_type": "display_data"
    }
   ],
   "source": [
    "import bqplot as bqp\n",
    "bqp.Figure(marks=[bqp.Pie(sizes=range(1, 6))], title='A pie chart!')"
   ]
  },
  {
   "cell_type": "markdown",
   "metadata": {},
   "source": [
    "# Prelude\n",
    "\n",
    "We begin by importing essential NumPy/SciPy/Matplotlib components that are needed to complete the exercises. The package ``scipy.optimize`` is new -- we'll use it for the last portion of this homework. The ``ipywidgets`` package is  used internally by some of the code snippets provided by us."
   ]
  },
  {
   "cell_type": "code",
   "execution_count": 2,
   "metadata": {
    "ExecuteTime": {
     "end_time": "2020-11-02T15:58:54.057175Z",
     "start_time": "2020-11-02T15:58:52.987139Z"
    }
   },
   "outputs": [],
   "source": [
    "import numpy as np\n",
    "import scipy.linalg as la\n",
    "\n",
    "# New: Optimization package\n",
    "import scipy.optimize as opt\n",
    "\n",
    "# bqplot plotting library\n",
    "import bqplot as bqp\n",
    "\n",
    "# Import graphical user interface components used below\n",
    "from ipywidgets import interact\n",
    "from ipywidgets import FloatSlider, VBox"
   ]
  },
  {
   "cell_type": "markdown",
   "metadata": {},
   "source": [
    "# Inverse Kinematics using Newton's method and the Pseudoinverse"
   ]
  },
  {
   "cell_type": "markdown",
   "metadata": {},
   "source": [
    "$$\n",
    "\\newcommand{\\vp}{\\mathbf{p}}\n",
    "\\newcommand{\\vx}{\\mathbf{x}}\n",
    "\\newcommand{\\vf}{\\mathbf{f}}\n",
    "\\newcommand{\\mA}{\\mathbf{A}}\n",
    "$$\n",
    "Lifelike computer-animated characters and animals are increasingly pervasive in today’s society:  they are now commonly encountered in games, advertisements, feature animation, and a variety of other fields. It’s interesting to realize that all of these animated characters initially start out as static 3D shapes, not unlike stone sculptures that are unable to move. Before a character built in this way can be seen in motion, the precise way in which its shape can change over time must be characterized mathematically. The most common way of doing this entails designing a customized 3D skeleton that is then attached to its outer skin. Subsequently, any adjustment to the posture of the skeleton will result in a corresponding change to the posture of the character. The figure below shows a simple character with an embedded skeleton and two example poses that were created by  rotating the joints of the skeleton.\n",
    "\n",
    "<br><img width=\"490\" src=\"//rgl.s3.eu-central-1.amazonaws.com/media/uploads/wjakob/2016/12/06/ik-system.jpg\"><br>\n",
    "\n",
    "A skeleton can range from a few elements to massively complex arrangements that reproduce the entire biological structure of the person or animal in question. In either case, the skeleton consists only of repeated instances of one basic component: a *bone*. Fortunately, computer graphics bones are much simpler than actual bones in real life.\n",
    "\n",
    "<br><img width=\"490\" src=\"//rgl.s3.eu-central-1.amazonaws.com/media/uploads/wjakob/2016/12/06/inverse-kinematics-05.png\"><br>\n",
    "\n",
    "As you can see in the above figure, each bone is essentially a line segment with a joint where it is connected to the previous bone. The bone can rotate in any way, but the connection between two bones can never move apart. Each bone also has a fixed length, in other words: it is rigid and never compresses or expands. On the other side, the next bone is generally attached. In 3D, a variety of rotations are possible (e.g. around the X, Y, or Z axis). In two dimensions things are simpler, and a single angle is enough to completely characterize the rotation of a bone relative to its predecessor bone. Everything in this homework will be in two dimensions to keep things simple."
   ]
  },
  {
   "cell_type": "markdown",
   "metadata": {},
   "source": [
    "## Part 1: Forward Kinematics (35 pts)"
   ]
  },
  {
   "cell_type": "markdown",
   "metadata": {},
   "source": [
    "In this exercise, we'll investigate the mathematics of a very simple kind of \"skeleton\": a chain of bones in two dimensions with joint positions $\\vp_i = (x_i, y_i)$. The first joint is rigidly attached to the origin (i.e. $\\vp_0 = (0, 0)$) while the other joints and bones are free to move in any way. For simplicitly, we'll also assume that all of the bones have the same length $l_1=l_2=\\ldots=1$.\n",
    "\n",
    "<img width=\"490\" src=\"//rgl.s3.eu-central-1.amazonaws.com/media/uploads/wjakob/2016/12/06/inverse-kinematics-01.png\"> \n",
    "\n",
    "Each parameter $\\theta_i\\in[0,2\\pi]$ specifies the counter-clockwise angle that the associated bone from joint $\\vp_{i-1}$ to joint $\\vp_i$ makes with its predecessor bone (the pair of bones are parallel if $\\theta_i=0$). The first bone doesn't have a predecessor, hence $\\theta_1$ is measured relative to the $X$ axis. Note how the complete set of bone angles $\\theta_1, \\theta_2, \\ldots$ is all the information we need to compute the precise positions of all the joint positions in Euclidean space.\n",
    "\n",
    "Forward kinematics (FK) is defined as the problem of converting a set of bone angles $\\theta_i$ into joint positions $\\vp_i$. Since $\\vp_i$ depends on all of the preceding angles, we can think of each joint position as a function $\\vp_i=\\vp(\\theta_1,\\ldots,\\theta_{i})$ \n",
    "\n",
    "**TODO** (15 pts): Your first task is to create a function ``chain_simple``, which solves the forward kinematics for a chain with at most one bone. The function should take an array of angles as a parameter, which can be of length 0 or 1 (use the Python ``len()`` function to query the length of an array). When no angles are specified, the function should return the position of the first joint $(x_0,y_0)=(0, 0)$ as an 1D NumPy array. When a single angle is specified, it should return the position $x_1, y_1$.\n",
    "\n",
    "Ensure that your implementation returns the expected example values in the cell below (up to minor rounding errors)."
   ]
  },
  {
   "cell_type": "markdown",
   "metadata": {},
   "source": [
    "<div class=\"alert alert-info\">\n",
    "\n",
    "The created function `chain_simple` solves the forward kinematics for a chain with at most one bone by taking an array of angles as an argument, checking its length and returning the joint position as an output.<br>\n",
    "    \n",
    "* If an empty array $[\\;]$ (array of length $0$) is passed as an argument, the function returns the position of the first joint $\\vp_0 = (x_0, y_0) = (0, 0)$.<br><br>\n",
    "    \n",
    "* If the array of angles $[\\theta_1]$ (length 1) is provided, the function returns the position $\\vp_{1} = (x_1, y_1) = \\big(\\cos(\\theta_1),\\, \\sin(\\theta_1)\\big)$ as a 1D NumPy array. This result is based on a straightforward geometry:\n",
    "$$x_1 = l_1 \\cdot \\cos(\\theta_1)$$\n",
    "$$y_1 = l_1 \\cdot \\sin(\\theta_1),$$\n",
    "where $l_1 = 1$ - the length of the bone; $\\theta_1$ - the counter-clockwise angle that the associated bone from joint $\\vp_{0}$ to joint $\\vp_{1}$ makes.<br><br>\n",
    "    \n",
    "* If a passed array of angles has a different length, the function raises 'ValueError'.\n",
    "\n",
    "The implementation returns the expected example values in the cell below.\n",
    "<div>"
   ]
  },
  {
   "cell_type": "code",
   "execution_count": 3,
   "metadata": {
    "ExecuteTime": {
     "end_time": "2020-11-02T16:06:15.184421Z",
     "start_time": "2020-11-02T16:06:15.177918Z"
    }
   },
   "outputs": [
    {
     "name": "stdout",
     "output_type": "stream",
     "text": [
      "chain_simple: [0. 0.]\n",
      "reference:    [0. 0.]\n",
      "\n",
      "chain_simple: [1. 0.]\n",
      "reference:    [1. 0.]\n",
      "\n",
      "chain_simple: [0.70710678 0.70710678]\n",
      "reference:    [0.70710678 0.70710678]\n"
     ]
    }
   ],
   "source": [
    "def chain_simple(theta):\n",
    "    if len(theta) == 0:\n",
    "        return np.array([0.0, 0.0])\n",
    "    elif len(theta) == 1:\n",
    "        return np.array([np.cos(theta[0]), np.sin(theta[0])])\n",
    "    else:\n",
    "        raise ValueError('Theta of length > 1 is provided! Input should be an array of length 0 or 1.')\n",
    "\n",
    "# TESTS (Do not modify!)\n",
    "print('chain_simple:', chain_simple([]))\n",
    "print('reference:   ', np.array([0.,0.]))\n",
    "print()\n",
    "print('chain_simple:', chain_simple([0.]))\n",
    "print('reference:   ', np.array([1., 0.]))\n",
    "print()\n",
    "print('chain_simple:', chain_simple([np.pi / 4]))\n",
    "print('reference:   ', np.array([ 0.70710678,  0.70710678]))"
   ]
  },
  {
   "cell_type": "markdown",
   "metadata": {},
   "source": [
    "### 1.1 Helper function"
   ]
  },
  {
   "cell_type": "markdown",
   "metadata": {},
   "source": [
    "We provide the function ``fk_demo()`` below to interactively explore the possible chain configurations via forward kinematics. The implementation uses the ``bqplot`` library mentioned above and is fairly technical. You are welcomed but not expected to read or understand how it works."
   ]
  },
  {
   "cell_type": "code",
   "execution_count": 4,
   "metadata": {},
   "outputs": [],
   "source": [
    "def fk_demo(chain_func, theta, extra = [[],[]]):\n",
    "    '''\n",
    "    This function visualizes the configuration of a chain of bones\n",
    "    and permits interactive changes to its state. It expects two arguments:\n",
    "    \n",
    "    ``chain_func``: a function that implements forward kinematics by\n",
    "    turning a sequence of angles (theta_1, theta_2, ..., theta_n) into\n",
    "    the position of the last joint of this chain (x_n, y_n).\n",
    "    \n",
    "    ``theta``: an array with the initial angles of all joints\n",
    "    \n",
    "    ``extra``: An optional argument which can be used to plot\n",
    "    additional points that are highlighted in red\n",
    "    '''\n",
    "    \n",
    "    # Function which repeatedly calls ``chain_func`` to compute all joint positions\n",
    "    def chain_all(theta):\n",
    "        return np.column_stack([chain_func(theta[:i]) for i in range(0, len(theta) + 1)])\n",
    "\n",
    "    # Determine size and initial configuration\n",
    "    size = len(theta)\n",
    "    positions = chain_all(theta)\n",
    "\n",
    "    # Define the range of the plotting frame\n",
    "    scales = { 'x': bqp.LinearScale(min=-size-1, max=size+1),\n",
    "               'y': bqp.LinearScale(min=-size-1, max=size+1) }\n",
    "\n",
    "    # Create a scatter plot (for joints), a line plot (for bones), and\n",
    "    # another scatter plot (to draw extra points specified the ``extra`` argument)\n",
    "    scat  = bqp.Scatter(scales=scales)\n",
    "    lines = bqp.Lines(scales=scales)\n",
    "    scat2 = bqp.Scatter(scales=scales, colors=['red'])\n",
    "\n",
    "    # Create a figure that combines the three plots\n",
    "    figure = bqp.Figure(marks=[scat, scat2, lines])\n",
    "    figure.layout.height = '500px'\n",
    "    figure.layout.width = '500px'\n",
    "    \n",
    "    # Initialize the plots with the initial data\n",
    "    scat.x, scat.y = positions\n",
    "    lines.x, lines.y = positions\n",
    "    scat2.x, scat2.y = extra\n",
    "    \n",
    "    sliders = []\n",
    "    \n",
    "    # For each angle theta_i,\n",
    "    for i in range(len(theta)):\n",
    "        # Create a graphical slider\n",
    "        slider = FloatSlider(min=0, max=2*np.pi, value=theta[i], step=1e-3)\n",
    "        \n",
    "        # Define a callback function that will be triggered when the slider is moved\n",
    "        def callback(value, i = i):\n",
    "            theta[i] = value['new']\n",
    "            positions = chain_all(theta)\n",
    "            scat.x, scat.y = positions\n",
    "            lines.x, lines.y = positions\n",
    "\n",
    "        # \"Attach\" the callback function to the slider\n",
    "        slider.observe(callback, 'value')\n",
    "        sliders.append(slider)\n",
    "\n",
    "    # Combine the plots and sliders in a vertical arrangement\n",
    "    return VBox([*sliders, figure])"
   ]
  },
  {
   "cell_type": "markdown",
   "metadata": {},
   "source": [
    "### 1.2 Visualization of the forward kinematics"
   ]
  },
  {
   "cell_type": "markdown",
   "metadata": {},
   "source": [
    "**TODO (0pts)**: To ensure that your implementation of ``chain_simple`` satisfies all the specifications, run the following cell that invokes the ``fk_demo()`` function with arguments ``chain_simple`` and ``[0.]`` (the initial parameters of a flat chain). You should be able to drag a slider from 0 to $2\\pi$ and see a visual representation of a 1-bone chain turning counter-clockwise."
   ]
  },
  {
   "cell_type": "code",
   "execution_count": 5,
   "metadata": {
    "ExecuteTime": {
     "end_time": "2020-11-02T15:47:12.642179Z",
     "start_time": "2020-11-02T15:47:12.634271Z"
    }
   },
   "outputs": [
    {
     "data": {
      "application/vnd.jupyter.widget-view+json": {
       "model_id": "e5c11d3c478e4a409f47d20373907363",
       "version_major": 2,
       "version_minor": 0
      },
      "text/plain": [
       "VBox(children=(FloatSlider(value=0.0, max=6.283185307179586, step=0.001), Figure(fig_margin={'top': 60, 'botto…"
      ]
     },
     "metadata": {},
     "output_type": "display_data"
    }
   ],
   "source": [
    "fk_demo(chain_simple, [0.])"
   ]
  },
  {
   "cell_type": "markdown",
   "metadata": {},
   "source": [
    "### 1.3 Longer chains"
   ]
  },
  {
   "cell_type": "markdown",
   "metadata": {},
   "source": [
    "**TODO** (15 pts): Create a function ``chain``, which solves the forward kinematics for an arbitrarily long sequence of bones. The function should take an arbitrary-length array of angles as a parameter. When no angles are specified, the function should return the position $(x_0, y_0)$ as before. When $i$ angles are specified, it should (only) return  the joint position $(x_{i}, y_{i})$.\n",
    "\n",
    "Ensure that your implementation returns the expected example values in the cell below (up to minor rounding errors)."
   ]
  },
  {
   "cell_type": "markdown",
   "metadata": {},
   "source": [
    "<div class=\"alert alert-info\">\n",
    "\n",
    "The created function `chain` solves the forward kinematics for an arbitrarily long sequence of bones by taking an array of angles as an argument and returning the position of the last joint as an output.<br>\n",
    "    \n",
    "The computation was based on the observation that the $i$th joint will have coordinates:\n",
    "$$x_i = \\cos(\\theta_1) + \\cos(\\theta_1 + \\theta_2) + \\ldots + \\cos(\\theta_1 + \\theta_2 + \\ldots + \\theta_i) = \\sum_{n = 1}^i \\cos\\bigg(\\sum_{k = 1}^n \\theta_k\\bigg)$$\n",
    "$$y_i = \\sin(\\theta_1) + \\sin(\\theta_1 + \\theta_2) + \\ldots + \\sin(\\theta_1 + \\theta_2 + \\ldots + \\theta_i) = \\sum_{n = 1}^i \\sin\\bigg(\\sum_{k = 1}^n \\theta_k\\bigg),$$\n",
    "\n",
    "assuming that $l_1=l_2=\\ldots=1$.\n",
    "    \n",
    "The expected result can be got either with or without using `chain_simple` and since we weren't necessarily expected to use `chain_simple` in the broader function chain, I have chosen the version without a loop, however, you can see another option being left as a comment.<br>\n",
    "    \n",
    "The implementation returns the expected example values in the cell below **(up to minor rounding errors)**.\n",
    "</div>"
   ]
  },
  {
   "cell_type": "code",
   "execution_count": 6,
   "metadata": {
    "ExecuteTime": {
     "end_time": "2020-11-02T16:07:21.408252Z",
     "start_time": "2020-11-02T16:07:21.402398Z"
    }
   },
   "outputs": [
    {
     "name": "stdout",
     "output_type": "stream",
     "text": [
      "chain:      [3.31597858 1.80146708]\n",
      "reference:  [3.31597858 1.80146708]\n",
      "\n",
      "chain:      [ 0.0000000e+00 -2.4492936e-16]\n",
      "reference:  [0 0]\n"
     ]
    }
   ],
   "source": [
    "def chain(thetas):\n",
    "    if len(thetas) == 0:\n",
    "        return np.array([0.0, 0.0])                                          # can be substituted by the\n",
    "    else:                                                                    # piece of code commented out below\n",
    "        angle_sum  = np.cumsum(thetas)\n",
    "        res = np.array([np.sum(np.cos(angle_sum)), np.sum(np.sin(angle_sum))])\n",
    "    return res                                                              \n",
    "    '''\n",
    "    res = np.array([0.0, 0.0])\n",
    "    for i in range(len(thetas)):\n",
    "        res += chain_simple([angle_sum[i]]) \n",
    "    return res\n",
    "    '''\n",
    "\n",
    "# TESTS (Do not modify!)\n",
    "print('chain:     ', chain([0.1, 0.2, 0.3, 0.4]))\n",
    "print('reference: ', np.array([ 3.31597858,  1.80146708]))\n",
    "print()\n",
    "print('chain:     ', chain([np.pi, np.pi, np.pi, np.pi]))\n",
    "print('reference: ', np.array([0, 0]))"
   ]
  },
  {
   "cell_type": "markdown",
   "metadata": {},
   "source": [
    "### 1.4 Attempting to reach a certain position"
   ]
  },
  {
   "cell_type": "markdown",
   "metadata": {},
   "source": [
    "Run the command ``fk_demo(chain, [0, 0, 0, 0, 0], [[-2], [3]])`` below. You should see a chain with five segments and five corresponding sliders, as well as an additional point highlighted in red.\n",
    "\n",
    "**TODO (5 points)**: Find a configuration of angles that brings the endpoint of the chain as close as possible to the highlighted location ``[-2, 3]]``. An exact match is not necessary, but the points should overlap by a significant margin. Copy the parameters you found into the argment list of the ``fk_demo`` function call."
   ]
  },
  {
   "cell_type": "markdown",
   "metadata": {},
   "source": [
    "<div class=\"alert alert-info\">\n",
    "    \n",
    "In this task we can observe that many different configurations can be used to reach the same $\\vp_{\\mathrm{target}}$, that is why I provide three configurations that I have explored.\n",
    "</div>"
   ]
  },
  {
   "cell_type": "code",
   "execution_count": 7,
   "metadata": {},
   "outputs": [
    {
     "data": {
      "application/vnd.jupyter.widget-view+json": {
       "model_id": "8aabd19adf984936a54672530cb1f39b",
       "version_major": 2,
       "version_minor": 0
      },
      "text/plain": [
       "VBox(children=(FloatSlider(value=2.71, max=6.283185307179586, step=0.001), FloatSlider(value=4.66, max=6.28318…"
      ]
     },
     "metadata": {},
     "output_type": "display_data"
    }
   ],
   "source": [
    "fk_demo(chain, [2.71, 4.66, 1.49, 5.0, 1.65], [[-2], [3]])"
   ]
  },
  {
   "cell_type": "code",
   "execution_count": 8,
   "metadata": {},
   "outputs": [
    {
     "data": {
      "application/vnd.jupyter.widget-view+json": {
       "model_id": "f9c52011db8c420b9db28327056e9f95",
       "version_major": 2,
       "version_minor": 0
      },
      "text/plain": [
       "VBox(children=(FloatSlider(value=2.17, max=6.283185307179586, step=0.001), FloatSlider(value=0.0, max=6.283185…"
      ]
     },
     "metadata": {},
     "output_type": "display_data"
    }
   ],
   "source": [
    "fk_demo(chain, [2.17, 0.0, 4.92, 2.52, 5.15], [[-2], [3]])"
   ]
  },
  {
   "cell_type": "code",
   "execution_count": 9,
   "metadata": {},
   "outputs": [
    {
     "data": {
      "application/vnd.jupyter.widget-view+json": {
       "model_id": "9405e7ff2b5a4d4bb6044c92d2ba177d",
       "version_major": 2,
       "version_minor": 0
      },
      "text/plain": [
       "VBox(children=(FloatSlider(value=2.15, max=6.283185307179586, step=0.001), FloatSlider(value=0.87, max=6.28318…"
      ]
     },
     "metadata": {},
     "output_type": "display_data"
    }
   ],
   "source": [
    "fk_demo(chain, [2.15, 0.87, 4.18, 0.75, 1.22], [[-2], [3]])"
   ]
  },
  {
   "cell_type": "markdown",
   "metadata": {},
   "source": [
    "## Part 2: Inverse Kinematics (50 pts)"
   ]
  },
  {
   "cell_type": "markdown",
   "metadata": {},
   "source": [
    "Problems similar to the one in Section 1.4 are tedious to solve by hand: all of the parameters are interdependent and must be adjusted in a coordinated manner. So-called *inverse kinematics* techniques apply numerical root finding to determine solutions to this problem in an automated way. Most modern animation systems have builtin support for inverse kinematics since it allows for a much more convenient workflow: rather than having to tweak each individual bone, artists can directly specify a target shape, and the system will automatically infer all the necessary rotations.\n",
    "\n",
    "In this part of the exercise, we will use inverse kinematics to automatically determine $\\theta_1,\\ldots,\\theta_n$ such that\n",
    "\n",
    "$$\n",
    "\\vp(\\theta_1,\\ldots,\\theta_n) = \\vp_{\\mathrm{target}}\n",
    "$$\n",
    "\n",
    "for a given value $\\vp_{\\mathrm{target}}\\in\\mathbb{R}^2$. In other words: the user can move around the endpoint of the chain, and the skeleton will automatically reconfigure itself to follow. This is illustrated in the following figure:\n",
    "\n",
    "<img width=\"900\" src=\"//rgl.s3.eu-central-1.amazonaws.com/media/uploads/wjakob/2016/12/06/inverse-kinematics-04.png\"> \n",
    "\n",
    "All good numerical root finding techniques require the ability to evaluate the Jacobian of $\\vp$, i.e. all the partial derivatives $\\frac{\\partial\\vp(\\theta_1,\\ldots,\\theta_n)}{\\partial \\theta_j}$. The partial derivatives encode how a small perturbation of each of the angles $\\theta_j$ leads to a corresponding change in $\\vp(\\theta_1,\\ldots,\\theta_n)$. As before, we'll first look at a 1-segment chain and then derive a solution for the general problem.\n",
    "\n",
    "**TODO** (10 pts): Implement a function ``dchain_simple(theta)`` which takes an array with one entry, and which computes the function $\\frac{\\partial \\vp(\\theta_1)}{\\partial \\theta_1}$. The return value should be a two-dimensional array with one column and two rows containing the partial derivatives of the coordinate values $x_1$ and $y_1$. You should use analytic methods -- approximating the derivatives via finite differences is not allowed.\n",
    "\n",
    "Ensure that your implementation returns the expected example values in the cell below (up to minor rounding errors)."
   ]
  },
  {
   "cell_type": "markdown",
   "metadata": {},
   "source": [
    "<div class=\"alert alert-info\">\n",
    "\n",
    "The created function `dchain_simple` takes an array of angles as an argument, checks its length and returns the function $\\frac{\\partial \\vp(\\theta_1)}{\\partial \\theta_1}$ as a two-dimensional array with one column and two rows containing the partial derivatives of the coordinate values $x_1$ and $y_1$.<br>\n",
    "    \n",
    "    \n",
    "* If the array of angles $[\\theta_1]$ (length 1) is provided, the function returns as an output $\\frac{\\partial \\vp(\\theta_1)}{\\partial \\theta_1}$. Since we have $\\vp_1 = (x_1, y_1) = \\big(\\cos(\\theta_1), \\, \\sin(\\theta_1)\\big)$, then<br><br>\n",
    "$$\\frac{\\partial\\vp(\\theta_1)}{\\partial \\theta_1} = \\bigg(\\frac{\\partial x_1}{\\partial \\theta_1}, \\frac{\\partial y_1}{\\partial \\theta_1}\\bigg) = \\bigg(\\frac{\\partial \\cos(\\theta_1)}{\\partial \\theta_1}, \\frac{\\partial \\sin(\\theta_1)}{\\partial \\theta_1}\\bigg) = \\big(-\\sin(\\theta_1),\\, \\cos(\\theta_1)\\big).$$<br>\n",
    "\n",
    "* If a passed array of angles has length not equal to $1$, the function raises 'ValueError'.\n",
    "\n",
    "The implementation returns the expected example values in the cell below (**up to minor rounding errors** including  a signed zero that is a minor implementation detail of IEEE754 arithmetic).\n",
    "</div>"
   ]
  },
  {
   "cell_type": "code",
   "execution_count": 10,
   "metadata": {
    "ExecuteTime": {
     "end_time": "2020-11-02T16:09:01.401811Z",
     "start_time": "2020-11-02T16:09:01.396192Z"
    }
   },
   "outputs": [
    {
     "name": "stdout",
     "output_type": "stream",
     "text": [
      "dchain_simple: \n",
      " [[-0.]\n",
      " [ 1.]]\n",
      "reference:     \n",
      " [[0.]\n",
      " [1.]]\n",
      "\n",
      "dchain_simple: \n",
      " [[-0.70710678]\n",
      " [ 0.70710678]]\n",
      "reference:     \n",
      " [[-0.70710678]\n",
      " [ 0.70710678]]\n"
     ]
    }
   ],
   "source": [
    "def dchain_simple(theta):\n",
    "    if len(theta) == 1:\n",
    "        return np.array([[-np.sin(theta[0])], [np.cos(theta[0])]])\n",
    "    else:\n",
    "        raise ValueError('Theta of length != 1 is provided! Input should be an array of length 1.')\n",
    "\n",
    "# TESTS (Do not modify!)\n",
    "print('dchain_simple: \\n', dchain_simple([0]))\n",
    "print('reference:     \\n', np.array([[0.], [1.]]))\n",
    "print()\n",
    "print('dchain_simple: \\n', dchain_simple([np.pi / 4]))\n",
    "print('reference:     \\n', np.array([[-0.70710678], [ 0.70710678]]))"
   ]
  },
  {
   "cell_type": "markdown",
   "metadata": {},
   "source": [
    "### 2.1 Implementing the full Jacobian function"
   ]
  },
  {
   "cell_type": "markdown",
   "metadata": {},
   "source": [
    "Having finished the version for a single bone, we'll now turn to the full Jacobian $\\nabla \\vp(\\theta_1, \\ldots, \\theta_n)$, which is a $2\\times n$ matrix containing the partial derivatives with respect to all angles. You'll likely want to use a vector version of the [product](https://en.wikipedia.org/wiki/Product_rule) or [chain rule](https://en.wikipedia.org/wiki/Chain_rule) in your implementation. Specifically, note that\n",
    "\n",
    "$$\n",
    "\\frac{\\partial}{\\partial t} \\left[\\mA(t)\\vx(t)\\right] = \\mA'(t)\\vx(t) + \\mA(t)\\vx'(t)\n",
    "$$\n",
    "\n",
    "where $\\mA(t)$ and $\\vx(t)$ are a matrix and a vector depending on a parameter $t$, respectively.\n",
    "\n",
    "**TODO** (25 pts): Implement a function ``dchain(theta)`` which accepts an 1D array of angles with length $\\ge 1$ and computes the Jacobian $\\nabla \\vp(\\theta_1, \\ldots, \\theta_n)$, a $2\\times n$ matrix. Don't forget to shortly explain how your implementation was derived and why it works.\n",
    "\n",
    "Ensure that your implementation returns the expected example values in the cell below (up to minor rounding errors)."
   ]
  },
  {
   "cell_type": "markdown",
   "metadata": {},
   "source": [
    "<div class=\"alert alert-info\">\n",
    "    \n",
    "The Jacobian $\\nabla \\vp(\\theta_1, \\ldots, \\theta_n)$ is a $\\,2\\times n\\,$ matrix that looks like:\n",
    "$$\\nabla \\vp(\\theta_1, \\ldots, \\theta_n) = \n",
    "\\begin{equation*}\n",
    "\\begin{pmatrix}\n",
    "\\frac{\\partial x(\\theta_1, \\ldots, \\theta_n)}{\\partial \\theta_1} & \\frac{\\partial x(\\theta_1, \\ldots, \\theta_n)}{\\partial \\theta_2} & \\cdots & \\frac{\\partial x(\\theta_1, \\ldots, \\theta_n)}{\\partial \\theta_n} \\\\\n",
    "\\frac{\\partial y(\\theta_1, \\ldots, \\theta_n)}{\\partial \\theta_1} & \\frac{\\partial y(\\theta_1, \\ldots, \\theta_n)}{\\partial \\theta_2} & \\cdots & \\frac{\\partial y(\\theta_1, \\ldots, \\theta_n)}{\\partial \\theta_n}\\\\\n",
    "\\end{pmatrix}\n",
    "\\end{equation*},$$\n",
    "where\n",
    "$$x = \\sum_{i = 1}^n \\cos\\bigg(\\sum_{k = 1}^i \\theta_k\\bigg) \\Rightarrow \\frac{\\partial x}{\\partial \\theta_j} = -\\sum_{i = j}^n \\sin\\bigg(\\sum_{k = 1}^i \\theta_k\\bigg)$$\n",
    "$$y = \\sum_{i = 1}^n \\sin\\bigg(\\sum_{k = 1}^i \\theta_k\\bigg) \\Rightarrow \\frac{\\partial y}{\\partial \\theta_j} = \\sum_{i = j}^n \\cos\\bigg(\\sum_{k = 1}^i \\theta_k\\bigg),$$\n",
    "so in the end we get\n",
    "$$\\nabla \\vp(\\theta_1, \\ldots, \\theta_n) = \n",
    "\\begin{equation*}\n",
    "\\begin{pmatrix}\n",
    "-\\sum_{i = 1}^n \\sin\\bigg(\\sum_{k = 1}^i \\theta_k\\bigg) & -\\sum_{i = 2}^n \\sin\\bigg(\\sum_{k = 1}^i \\theta_k\\bigg) & \\cdots & -\\sin\\bigg(\\sum_{k = 1}^n \\theta_k\\bigg) \\\\\n",
    "\\sum_{i = 1}^n \\cos\\bigg(\\sum_{k = 1}^i \\theta_k\\bigg) & \\sum_{i = 2}^n \\cos\\bigg(\\sum_{k = 1}^i \\theta_k\\bigg) & \\cdots & \\cos\\bigg(\\sum_{k = 1}^n \\theta_k\\bigg)\\\\\n",
    "\\end{pmatrix}\n",
    "\\end{equation*}.$$\n",
    "\n",
    "The expected result can be got either with or without using `dchain_simple` and since we weren't necessarily expected to use `dchain_simple` in the broader function for the Jacobian computation, I have chosen the variant with `np.sum`, however, you can see another option being left as a comment.<br>\n",
    "    \n",
    "The implementation returns the expected example values in the cell below.\n",
    "</div>"
   ]
  },
  {
   "cell_type": "code",
   "execution_count": 11,
   "metadata": {
    "ExecuteTime": {
     "end_time": "2020-11-02T16:11:28.348219Z",
     "start_time": "2020-11-02T16:11:28.342061Z"
    }
   },
   "outputs": [
    {
     "name": "stdout",
     "output_type": "stream",
     "text": [
      "dchain: \n",
      " [[0. 0. 0. 0.]\n",
      " [4. 3. 2. 1.]]\n",
      "reference: \n",
      " [[0. 0. 0. 0.]\n",
      " [4. 3. 2. 1.]]\n",
      "\n",
      "dchain: \n",
      " [[-0.9599961  -0.86016268 -0.56464247]\n",
      " [ 2.77567627  1.7806721   0.82533561]]\n",
      "reference: \n",
      " [[-0.9599961  -0.86016268 -0.56464247]\n",
      " [ 2.77567627  1.7806721   0.82533561]]\n"
     ]
    }
   ],
   "source": [
    "def dchain(thetas):\n",
    "    angle_sum = np.cumsum(thetas)\n",
    "    jacobian = np.zeros((2, len(thetas)))\n",
    "    for i in range(len(thetas)):                         # can be substituted by the\n",
    "        jacobian[0, i] = np.sum(-np.sin(angle_sum)[i:])  # piece of code commented out below\n",
    "        jacobian[1, i] = np.sum(np.cos(angle_sum)[i:])\n",
    "    return jacobian\n",
    "    '''\n",
    "    jacobian[:, -1] += dchain_simple([angle_sum[-1]]).ravel()\n",
    "    for i in range(len(thetas) - 2, -1, -1):\n",
    "        jacobian[:, i] += jacobian[:, i + 1] + dchain_simple([angle_sum[i]]).ravel()\n",
    "    '''\n",
    "\n",
    "# TESTS (Do not modify!)\n",
    "print('dchain: \\n', dchain([0, 0, 0, 0]))\n",
    "print('reference: \\n', np.array([[ 0.,  0.,  0.,  0.], [ 4.,  3.,  2.,  1.]]))\n",
    "print()\n",
    "print('dchain: \\n', dchain([0.1, 0.2, 0.3]))\n",
    "print('reference: \\n', np.array([[-0.9599961 , -0.86016268, -0.56464247], [ 2.77567627,  1.7806721 ,  0.82533561]]))"
   ]
  },
  {
   "cell_type": "markdown",
   "metadata": {},
   "source": [
    "### 2.2 Solving the inverse kinematics problem using Newton's Method"
   ]
  },
  {
   "cell_type": "markdown",
   "metadata": {},
   "source": [
    "Newton's method is one of the most widely used methods for finding solutions to systems of non-linear equations. It  converges at a remarkable speed when started sufficiently close to a root, though there is generally no strict guarantee of convergence.\n",
    "\n",
    "Given a function $\\vf(\\vx)$, Newton's method tries to find a solution to the equation $\\vf = 0$ using steps of the form\n",
    "\n",
    "$$\n",
    "\\vx_{i+1}=\\vx_i - \\left(\\nabla \\vf\\right)^{-1}\\vf(\\vx_{i}).\n",
    "$$\n",
    "\n",
    "In the context of inverse kinematics, we want to apply Newton's method to solve an equation of the form\n",
    "\n",
    "$$\n",
    "\\vp(\\theta_1,\\ldots,\\theta_n) = \\vp_{\\mathrm{target}}.\n",
    "$$\n",
    "\n",
    "for a given reference position $\\vp_{\\mathrm{target}}\\in\\mathbb{R}^2$.\n",
    "\n",
    "In other words: the unknowns are the angles $\\theta_1,\\ldots,\\theta_n$, and the function whose root we seek maps to a two-dimensional domain. It is not immediately obvious how to apply Newton's method, since the Jacobian of the function has the shape $2\\times n$ and hence cannot be inverted using standard techniques like the LU decomposition.\n",
    "\n",
    "This should not be surprising. It is a consequence of the fact that many different configurations can be used to reach the same $\\vp_{\\mathrm{target}}$, which you may have noticed in part 1.4.\n",
    "\n",
    "Fortunately, we can use the *pseudoinverse*, a generalization of the inverse to non-square matrices. In this specific case, the Jacobian is *wide* (i.e. it has more columns than rows), in which case the pseudoinverse will find the solution to a linear system which has the smallest $\\|\\cdot\\|_2$-norm. That is excellent news, since it causes the IK solver to make small adjustments to the angles to reach a new position.\n",
    "\n",
    "**TODO** (15 pts): Implement a function ``newton(theta, target)`` that takes a 1-dimensional array of angles as a starting guess as well as a 2D target position (also specified as a 1-dimensional array) as input. The implementation should perform a fixed 8 iterations of Newton's method to try to solve the equation $\\vp(\\theta_1,\\ldots,\\theta_n) = \\vp_{\\mathrm{target}}$ and return the final set of parameters $\\theta_1,\\ldots,\\theta_n$ as an 1-dimensional NumPy array. You can use the function ``la.pinv`` to compute the pseudoinverse.\n",
    "\n",
    "Ensure that your implementation is able to converge to the following positions (up to minor rounding errors)\n",
    "\n",
    "1. Moving a 1-element chain from the default configuration to position $(0, 1)$, i.e. ``chain(newton(np.array([0.]), np.array([0., 1.]))) == np.array([0, 1])``<br><br>\n",
    "\n",
    "1. Moving a 2-element chain from the default configuration to position $(0.5, 0.5)$, i.e. ``chain(newton(np.array([0., 0.]), np.array([0.5, 0.5]))) == np.array([0.5, 0.5])``"
   ]
  },
  {
   "cell_type": "markdown",
   "metadata": {},
   "source": [
    "<div class=\"alert alert-info\">\n",
    "    \n",
    "The function implements Newton's method (described above) for finding the solution of\n",
    "$$\\vp(\\theta_1,\\ldots,\\theta_n) = \\vp_{\\mathrm{target}}$$\n",
    "\n",
    "for a given reference position $\\vp_{\\mathrm{target}}\\in\\mathbb{R}^2$. Since for a given function $\\vf(\\vx)$, Newton's method tries to find a solution to the equation $\\vf = 0$ using steps of the form\n",
    "\n",
    "$$\\vx_{i+1}=\\vx_i - \\left[\\nabla \\vf(\\vx_i)\\right]^{-1}\\vf(\\vx_{i}),$$\n",
    "then in our case\n",
    "$$\\vf = \\vp(\\theta_1,\\ldots,\\theta_n) - \\vp_{\\mathrm{target}} = 0$$\n",
    "and\n",
    "$$\\nabla \\vf = \\nabla\\big(\\vp(\\theta_1,\\ldots,\\theta_n) - \\vp_{\\mathrm{target}}\\big) = \\nabla \\vp(\\theta_1,\\ldots,\\theta_n).$$\n",
    "Therefore, we will get\n",
    "$$\\boldsymbol{\\theta}_{i+1} = \\boldsymbol{\\theta}_{i} - \\left[\\nabla \\vp(\\boldsymbol{\\theta}_{i})\\right]^{-1}\\big(\\vp(\\boldsymbol{\\theta}_{i}) - \\vp_{\\mathrm{target}}\\big).$$\n",
    "\n",
    "The implementation returns the expected example values in the cell below **(up to minor rounding errors)**.\n",
    "</div>"
   ]
  },
  {
   "cell_type": "code",
   "execution_count": 12,
   "metadata": {
    "ExecuteTime": {
     "end_time": "2020-11-02T16:15:43.374557Z",
     "start_time": "2020-11-02T16:15:43.368623Z"
    }
   },
   "outputs": [
    {
     "name": "stdout",
     "output_type": "stream",
     "text": [
      "chain(newton):  [6.123234e-17 1.000000e+00]\n",
      "reference:      [0 1]\n",
      "\n",
      "chain(newton):  [0.5 0.5]\n",
      "reference:      [0.5 0.5]\n"
     ]
    }
   ],
   "source": [
    "def newton(thetas, target, n_iter = 8):\n",
    "    new_thetas = thetas\n",
    "    for i in range(n_iter):\n",
    "        new_thetas -= la.pinv(dchain(new_thetas))@(chain(new_thetas) - target)\n",
    "    return new_thetas\n",
    "\n",
    "# TESTS (Do not modify!)\n",
    "# Moving a 1-element chain from the default configuration to position (0, 1)\n",
    "print('chain(newton): ', chain(newton(np.array([0.]), np.array([0., 1.]))))\n",
    "print('reference:     ', np.array([0, 1]))\n",
    "print()\n",
    "# Moving a 2-element chain from the default configuration to position (0.5, 0.5)\n",
    "print('chain(newton): ', chain(newton(np.array([0., 0.]), np.array([0.5, 0.5]))))\n",
    "print('reference:     ', np.array([0.5, 0.5]))"
   ]
  },
  {
   "cell_type": "markdown",
   "metadata": {},
   "source": [
    "### 2.3 One more helper function"
   ]
  },
  {
   "cell_type": "markdown",
   "metadata": {},
   "source": [
    "We provide the function ``ik_demo()`` below to interactively explore the possible chain configurations via inverse kinematics. Similar to ``fk_demo()``, the function is fairly technical. You are welcomed but not expected to read or understand how it works."
   ]
  },
  {
   "cell_type": "code",
   "execution_count": 13,
   "metadata": {
    "ExecuteTime": {
     "end_time": "2020-11-02T16:16:18.053389Z",
     "start_time": "2020-11-02T16:16:18.041843Z"
    }
   },
   "outputs": [],
   "source": [
    "def ik_demo(solver, size):    \n",
    "    theta = np.zeros(size, dtype=np.float64)\n",
    "    \n",
    "    # Function which repeatedly calls ``chain`` to compute all joint positions\n",
    "    def chain_all(theta):\n",
    "        return np.column_stack([chain(theta[:i]) for i in range(0, len(theta) + 1)])\n",
    "\n",
    "    # Callback that is invoked when the user drags the red endpoint around\n",
    "    def refresh(_):\n",
    "        # 'theta' is a variable of the parent function, we want to modify it here\n",
    "        nonlocal theta\n",
    "        \n",
    "        # Target position\n",
    "        target = np.array([scat2.x[0], scat2.y[0]])\n",
    "        \n",
    "        # Don't try to solve the problem if the user dragged the point out of the circle\n",
    "        if la.norm(target) > size:\n",
    "            return\n",
    "        \n",
    "        # Call the provided IK solver\n",
    "        theta = solver(theta, target)\n",
    "        \n",
    "        # Update the positions\n",
    "        values = chain_all(theta)\n",
    "        scat.x, scat.y = values\n",
    "        lines.x, lines.y = values\n",
    "    \n",
    "    # Similar to fk_solver(), create a number of plots and merge them\n",
    "    scales = { 'x': bqp.LinearScale(min=-size-1, max=size+1),\n",
    "               'y': bqp.LinearScale(min=-size-1, max=size+1) }\n",
    "\n",
    "    scat  = bqp.Scatter(scales=scales)\n",
    "    lines = bqp.Lines(scales=scales)\n",
    "\n",
    "    # Create a circle which marks the boundary of where the red point can be moved\n",
    "    circle_x = np.cos(np.linspace(0, 2*np.pi, 100)) * size\n",
    "    circle_y = np.sin(np.linspace(0, 2*np.pi, 100)) * size\n",
    "    circle = bqp.Lines(x=circle_x, y=circle_y,\n",
    "                       scales=scales, colors=['gray'])\n",
    "    \n",
    "    # Special plot, which contains the red endpoint that can be moved\n",
    "    scat2 = bqp.Scatter(scales=scales,\n",
    "                        enable_move=True, \n",
    "                        update_on_move=True,\n",
    "                        colors=['red'])\n",
    "\n",
    "    # Initialize the visualizations with the default configuration\n",
    "    values = chain_all(theta)\n",
    "    scat.x, scat.y = values\n",
    "    lines.x, lines.y = values\n",
    "    scat2.x, scat2.y = chain(theta).reshape(2, 1)\n",
    "    \n",
    "    # Call the 'refresh' function when the red dot is moved\n",
    "    scat2.observe(refresh, names=['x', 'y'])\n",
    "\n",
    "    figure = bqp.Figure(marks=[scat, scat2, lines, circle])\n",
    "    figure.layout.height = '500px'\n",
    "    figure.layout.width = '500px'\n",
    "    return figure"
   ]
  },
  {
   "cell_type": "markdown",
   "metadata": {},
   "source": [
    "### 2.4 Putting everything together"
   ]
  },
  {
   "cell_type": "markdown",
   "metadata": {},
   "source": [
    "Finally, let's visualize the behavior of the completed inverse kinematics solver. \n",
    "\n",
    "**TODO** :\n",
    "1. Invoke the IK demonstration with 4 segments, i.e. ``ik_demo(newton, 4)``. You should be able to move the red endpoint with your mouse cursor, leading to a smooth adjustment of the chain configuration.<br><br>\n",
    "\n",
    "2. Invoke the IK demonstration with 30 segments, i.e. ``ik_demo(newton, 30)``."
   ]
  },
  {
   "cell_type": "code",
   "execution_count": 14,
   "metadata": {},
   "outputs": [
    {
     "data": {
      "application/vnd.jupyter.widget-view+json": {
       "model_id": "fce462f2d26d435ea592519ded0f3447",
       "version_major": 2,
       "version_minor": 0
      },
      "text/plain": [
       "Figure(fig_margin={'top': 60, 'bottom': 60, 'left': 60, 'right': 60}, layout=Layout(height='500px', width='500…"
      ]
     },
     "metadata": {},
     "output_type": "display_data"
    }
   ],
   "source": [
    "ik_demo(newton, 4)"
   ]
  },
  {
   "cell_type": "code",
   "execution_count": 15,
   "metadata": {},
   "outputs": [
    {
     "data": {
      "application/vnd.jupyter.widget-view+json": {
       "model_id": "860a6a7c12f1471ca67df556e440afe6",
       "version_major": 2,
       "version_minor": 0
      },
      "text/plain": [
       "Figure(fig_margin={'top': 60, 'bottom': 60, 'left': 60, 'right': 60}, layout=Layout(height='500px', width='500…"
      ]
     },
     "metadata": {},
     "output_type": "display_data"
    }
   ],
   "source": [
    "ik_demo(newton, 30)"
   ]
  },
  {
   "cell_type": "markdown",
   "metadata": {},
   "source": [
    "## 3 Regularized Inverse Kinematics (15 points)"
   ]
  },
  {
   "cell_type": "markdown",
   "metadata": {},
   "source": [
    "The inverse kinematics solution from Example 2 provides generally reasonable results by attempting to make the smallest change to the bone angles that will allow the chain to reach a particular point. However, in some cases there might be additional requirements we'd like the solution to satisfy. For instance, it might be unnatural for the character to bend a joint more than a few degrees. In this case, we could try to find a solution to an optimization problem that compromises between reaching the target position and bending joints by an overly large amount.\n",
    "\n",
    "$$\n",
    "\\DeclareMathOperator*{\\argmin}{argmin}\n",
    "\\argmin_{\\theta_1,\\ldots,\\theta_n} \\alpha\\cdot\\|\\vp(\\theta_1,\\ldots,\\theta_n)-\\vp_\\mathrm{target}\\|_2^2 + \\sum_{i=1}^n\\theta_i^2\n",
    "$$\n",
    "\n",
    "**TODO**: Optimize the above objective using the function [``opt.minimize``](https://docs.scipy.org/doc/scipy/reference/generated/scipy.optimize.minimize.html) and run your algorithm on a chain of length 5 (using the ``ik_demo`` function). Use $\\alpha=10$ in the above formula (i.e. reaching the target point is quite important)."
   ]
  },
  {
   "cell_type": "markdown",
   "metadata": {},
   "source": [
    "<div class=\"alert alert-info\">\n",
    "\n",
    "Here I define `objective_L2` function that implements the above objective and function `solver_target_L2` that returns  the result of the objective optimization as an output. You can see below the visualization on a chain of length $5$ that was received by using `ik_demo` function.\n",
    "    \n",
    "In comparison with Newton's method, we can observe that now the chain is limited in the number of folds that it can have. In this case, trying to move the target point in an arbitrary fashion leads to quick smooth motions of the chain followed by some kind of \"reload\": in order to satisfy the conditions written above, the chain in a moment completely changes the location of bones, at the same time tending not to move the final joint from the target point.\n",
    "</div>"
   ]
  },
  {
   "cell_type": "code",
   "execution_count": 16,
   "metadata": {},
   "outputs": [],
   "source": [
    "def objective_L2(thetas, target, alpha = 10):\n",
    "    return alpha * np.sum((chain(thetas) - target) ** 2) + np.sum(thetas ** 2)\n",
    "\n",
    "def solver_target_L2(thetas, target):\n",
    "    new_thetas = opt.minimize(objective_L2, thetas, args = (target))['x']\n",
    "    return new_thetas"
   ]
  },
  {
   "cell_type": "code",
   "execution_count": 17,
   "metadata": {},
   "outputs": [
    {
     "data": {
      "application/vnd.jupyter.widget-view+json": {
       "model_id": "ceb9e8812c6b41fe9e2cf966ad28bc40",
       "version_major": 2,
       "version_minor": 0
      },
      "text/plain": [
       "Figure(fig_margin={'top': 60, 'bottom': 60, 'left': 60, 'right': 60}, layout=Layout(height='500px', width='500…"
      ]
     },
     "metadata": {},
     "output_type": "display_data"
    }
   ],
   "source": [
    "ik_demo(solver_target_L2, 5)"
   ]
  },
  {
   "cell_type": "markdown",
   "metadata": {},
   "source": [
    "**TODO**: Now try to optimize the following function instead, using the same value of $\\alpha$. What behavior do you observe? Note that the optimization seems to run much slower than in the previous case. Why do you think that is?\n",
    "\n",
    "$$\n",
    "\\DeclareMathOperator*{\\argmin}{argmin}\n",
    "\\argmin_{\\theta_1,\\ldots,\\theta_n} \\alpha\\cdot\\|\\vp(\\theta_1,\\ldots,\\theta_n)-\\vp_\\mathrm{target}\\|_2^2 + \\sum_{i=1}^n\\left|\\theta_i\\right|\n",
    "$$\n"
   ]
  },
  {
   "cell_type": "markdown",
   "metadata": {},
   "source": [
    "<div class=\"alert alert-info\">\n",
    "    \n",
    "Here I define `objective_L1` function that implements the above objective and function `solver_target_L1` that returns  the result of the objective optimization as an output. You can see below the visualization on a chain of length 5 that was received by using `ik_demo` function.\n",
    "    \n",
    "In comparison with Newton's method, we can observe that now the chain is limited in the degrees of bending a joint. Compared to the previous case, trying to move the target point in an arbitrary fashion leads to slow following the target point by the last joint of the chain, the \"reloads\" seem to be more rare: satisfying the above conditions forces the chain to have one or maximum two folds during the automatical skeleton reconfiguration.\n",
    "    \n",
    "The optimization seems to run much slower than in the previous case because adding an $L_1$ penalty slows things down significantly: an $L_1$ penalty is not differentiable (i.e. absolute value) whereas the $L_2$ penalty is. This means that the surface of the objective function isn't smooth and it will take more iterations for the optimization algorithm to converge.\n",
    "</div>"
   ]
  },
  {
   "cell_type": "code",
   "execution_count": 18,
   "metadata": {},
   "outputs": [],
   "source": [
    "def objective_L1(thetas, target, alpha = 10):\n",
    "    return alpha * np.sum((chain(thetas) - target) ** 2) + np.sum(np.abs(thetas))\n",
    "\n",
    "def solver_target_L1(thetas, target):\n",
    "    new_thetas = opt.minimize(objective_L1, thetas, args = (target))['x']\n",
    "    return new_thetas"
   ]
  },
  {
   "cell_type": "code",
   "execution_count": 19,
   "metadata": {},
   "outputs": [
    {
     "data": {
      "application/vnd.jupyter.widget-view+json": {
       "model_id": "b3144163eadb4f8091420d7b53aa1352",
       "version_major": 2,
       "version_minor": 0
      },
      "text/plain": [
       "Figure(fig_margin={'top': 60, 'bottom': 60, 'left': 60, 'right': 60}, layout=Layout(height='500px', width='500…"
      ]
     },
     "metadata": {},
     "output_type": "display_data"
    }
   ],
   "source": [
    "ik_demo(solver_target_L1, 5)"
   ]
  }
 ],
 "metadata": {
  "anaconda-cloud": {},
  "kernelspec": {
   "display_name": "Python 3",
   "language": "python",
   "name": "python3"
  },
  "language_info": {
   "codemirror_mode": {
    "name": "ipython",
    "version": 3
   },
   "file_extension": ".py",
   "mimetype": "text/x-python",
   "name": "python",
   "nbconvert_exporter": "python",
   "pygments_lexer": "ipython3",
   "version": "3.8.8"
  },
  "toc": {
   "nav_menu": {},
   "number_sections": true,
   "sideBar": true,
   "skip_h1_title": true,
   "title_cell": "Table of Contents",
   "title_sidebar": "Contents",
   "toc_cell": false,
   "toc_position": {},
   "toc_section_display": true,
   "toc_window_display": false
  },
  "varInspector": {
   "cols": {
    "lenName": "30",
    "lenType": 16,
    "lenVar": 40
   },
   "kernels_config": {
    "python": {
     "delete_cmd_postfix": "",
     "delete_cmd_prefix": "del ",
     "library": "var_list.py",
     "varRefreshCmd": "print(var_dic_list())"
    },
    "r": {
     "delete_cmd_postfix": ") ",
     "delete_cmd_prefix": "rm(",
     "library": "var_list.r",
     "varRefreshCmd": "cat(var_dic_list()) "
    }
   },
   "types_to_exclude": [
    "module",
    "function",
    "builtin_function_or_method",
    "instance",
    "_Feature"
   ],
   "window_display": false
  }
 },
 "nbformat": 4,
 "nbformat_minor": 1
}
